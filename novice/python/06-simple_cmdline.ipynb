{
 "metadata": {
  "name": "",
  "signature": "sha256:9424fa7e7cf886c863a7e85366fd988f7be121e95332997e6c9e874996daac54"
 },
 "nbformat": 3,
 "nbformat_minor": 0,
 "worksheets": [
  {
   "cells": [
    {
     "cell_type": "heading",
     "level": 2,
     "metadata": {},
     "source": [
      "Python Modules and Command-line Programs"
     ]
    },
    {
     "cell_type": "markdown",
     "metadata": {},
     "source": [
      "The IPython Notebook and other interactive tools are great for prototyping code and exploring data,\n",
      "but sooner or later one or both of the following things happen:\n",
      "\n",
      "* We develop a useful function that we want to use in other notebooks\n",
      "and we *know* that there has to be a better way than copying and pasting \n",
      "it around.\n",
      "\n",
      "* We want to use the useful function we've created in a pipeline\n",
      "or run via a shell script to process thousands of data files.\n",
      "\n",
      "In order to do reach those goals,\n",
      "we need to:\n",
      "\n",
      "1. Store our functions in a Python module\n",
      "2. Put a wrapper around them to make a program that works like other Unix command-line tools"
     ]
    },
    {
     "cell_type": "markdown",
     "metadata": {},
     "source": [
      "An example of a command-line script that uses our `sherlock()` function to process groups of files\n",
      "would look like:\n",
      "\n",
      "~~~\n",
      "$ python sherlock.py inflammation-*\n",
      "~~~\n",
      "\n",
      "or\n",
      "\n",
      "~~~\n",
      "$ python sherlock.py inflammation-0[6-9].csv\n",
      "~~~\n",
      "\n",
      "To make this work,\n",
      "we need to know how to handle command-line arguments in a program,\n",
      "and how to get at [standard input](../../gloss.html#standard-input)."
     ]
    },
    {
     "cell_type": "markdown",
     "metadata": {},
     "source": [
      "#### Objective\n",
      "\n",
      "* Create a Python module containing functions that can be `import`-ed into notebooks and other modules.\n",
      "* Use the values of command-line arguments in a program."
     ]
    },
    {
     "cell_type": "heading",
     "level": 3,
     "metadata": {},
     "source": [
      "Python Modules"
     ]
    },
    {
     "cell_type": "markdown",
     "metadata": {},
     "source": [
      "A Python module is just a text file that contains some Python functions.\n",
      "Once we have our functions in a module we can use the `import` statement\n",
      "to bring them into any number of iPython Notebooks,\n",
      "or into other Python modules."
     ]
    },
    {
     "cell_type": "markdown",
     "metadata": {},
     "source": [
      "So,\n",
      "let's put our `sherlock()` and `plotclues()` functions into a text file called `sherlock.py`.\n",
      "We could:\n",
      "\n",
      "1. Open an empty file called `sherlock.py` in our favourite text editor and type the functions again\n",
      "2. Use copy and paste to scoop the functions from the `05-simple_cond` notebook into the file\n",
      "3. Use the iPython Notebook `%%writefile` cell magic to write the functions out of the notebook into the file"
     ]
    },
    {
     "cell_type": "code",
     "collapsed": false,
     "input": [
      "%%writefile"
     ],
     "language": "python",
     "metadata": {},
     "outputs": [],
     "prompt_number": 9
    },
    {
     "cell_type": "code",
     "collapsed": false,
     "input": [],
     "language": "python",
     "metadata": {},
     "outputs": []
    }
   ],
   "metadata": {}
  }
 ]
}