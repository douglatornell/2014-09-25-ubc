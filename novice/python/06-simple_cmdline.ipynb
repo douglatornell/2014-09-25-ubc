{
 "metadata": {
  "name": "",
  "signature": "sha256:e6c774a56a1cde08dee79bb68632c69dc1fd52df21ecaca24c6fd81538d5ad86"
 },
 "nbformat": 3,
 "nbformat_minor": 0,
 "worksheets": [
  {
   "cells": [
    {
     "cell_type": "heading",
     "level": 2,
     "metadata": {},
     "source": [
      "Python Modules and Command-line Programs"
     ]
    },
    {
     "cell_type": "markdown",
     "metadata": {},
     "source": [
      "The IPython Notebook and other interactive tools are great for prototyping code and exploring data,\n",
      "but sooner or later one or both of the following things happen:\n",
      "\n",
      "* We develop a useful function that we want to use in other notebooks\n",
      "and we *know* that there has to be a better way than copying and pasting \n",
      "it around.\n",
      "\n",
      "* We want to use the useful function we've created in a pipeline\n",
      "or run via a shell script to process thousands of data files.\n",
      "\n",
      "In order to do reach those goals,\n",
      "we need to:\n",
      "\n",
      "1. Store our functions in a Python module\n",
      "2. Put a wrapper around them to make a program that works like other Unix command-line tools"
     ]
    },
    {
     "cell_type": "markdown",
     "metadata": {},
     "source": [
      "An example of a command-line script that uses our `sherlock()` function to process groups of files\n",
      "would look like:\n",
      "\n",
      "~~~\n",
      "$ python sherlock.py inflammation-*\n",
      "~~~\n",
      "\n",
      "or\n",
      "\n",
      "~~~\n",
      "$ python sherlock.py inflammation-0[6-9].csv\n",
      "~~~\n",
      "\n",
      "To make this work,\n",
      "we need to know how to handle command-line arguments in a program,\n",
      "and how to get at [standard input](../../gloss.html#standard-input)."
     ]
    },
    {
     "cell_type": "markdown",
     "metadata": {},
     "source": [
      "#### Objectives\n",
      "\n",
      "* Create a Python module containing functions that can be `import`-ed into notebooks and other modules.\n",
      "* Use the values of command-line arguments in a program.\n",
      "* Read data from standard input in a program so that it can be used in a pipeline."
     ]
    },
    {
     "cell_type": "heading",
     "level": 3,
     "metadata": {},
     "source": [
      "Python Modules"
     ]
    },
    {
     "cell_type": "markdown",
     "metadata": {},
     "source": [
      "A Python module is just a text file that contains some Python functions.\n",
      "Once we have our functions in a module we can use the `import` statement\n",
      "to bring them into any number of iPython Notebooks,\n",
      "or into other Python modules."
     ]
    },
    {
     "cell_type": "markdown",
     "metadata": {},
     "source": [
      "So,\n",
      "let's put our `sherlock()` and `plot_clues()` functions into a text file called `sherlock.py`.\n",
      "We could:\n",
      "\n",
      "1. Open an empty file called `sherlock.py` in our favourite text editor and type the functions again\n",
      "2. Use copy and paste to scoop the functions from the [`04-simple_cond`](http://nbviewer.ipython.org/github/douglatornell/2014-09-25-ubc/blob/gh-pages/novice/python/04-simple_cond.ipynb) notebook into the file\n",
      "3. Use the iPython Notebook `%%writefile` cell magic to write the functions out of the notebook into the file\n",
      "\n",
      "We'll use `%%writefile` because it's the least work."
     ]
    },
    {
     "cell_type": "code",
     "collapsed": false,
     "input": [
      "%%writefile?"
     ],
     "language": "python",
     "metadata": {},
     "outputs": [],
     "prompt_number": 7
    },
    {
     "cell_type": "markdown",
     "metadata": {},
     "source": [
      "```\n",
      "Type:        Magic function\n",
      "String form: <bound method OSMagics.writefile of <IPython.core.magics.osm.OSMagics object at 0x7fa01a2926d0>>\n",
      "Namespace:   IPython internal\n",
      "File:        /home/dlatornell/anaconda3/envs/swc/lib/python2.7/site-packages/IPython/core/magics/osm.py\n",
      "Definition:  %%writefile(self, line, cell)\n",
      "Docstring:\n",
      "::\n",
      "\n",
      "  %writefile [-a] filename\n",
      "\n",
      "Write the contents of the cell to a file.\n",
      "\n",
      "The file will be overwritten unless the -a (--append) flag is specified.\n",
      "\n",
      "positional arguments:\n",
      "  filename      file to write\n",
      "\n",
      "optional arguments:\n",
      "  -a, --append  Append contents of the cell to an existing file. The file will\n",
      "                be created if it does not exist.\n",
      "```"
     ]
    },
    {
     "cell_type": "markdown",
     "metadata": {},
     "source": [
      "To write our `sherlock()` and `plot_clues()` functions to a Python module files called `sherlock.py`\n",
      "put\n",
      "```\n",
      "%%writefile sherlock.py\n",
      "```\n",
      "at the top of the cell containing the functions and execute the cell.\n",
      "The results message will tell us that the contents of the cell have been written to a file\n",
      "instead of having been executed.\n",
      "\n",
      "Don't forget to delete the `%%writefile` line from the top of the cell before you save the notebook."
     ]
    },
    {
     "cell_type": "markdown",
     "metadata": {},
     "source": [
      "We also need the `analyze_stats()` function because `sherlock()` calls that too.\n",
      "Use\n",
      "```\n",
      "%%writefile -a sherlock.py\n",
      "```\n",
      "to append it to our `sherlock.py` module.\n",
      "\n",
      "When we're done `sherlock.py` should contain:"
     ]
    },
    {
     "cell_type": "code",
     "collapsed": false,
     "input": [
      "!cat sherlock.py"
     ],
     "language": "python",
     "metadata": {},
     "outputs": [
      {
       "output_type": "stream",
       "stream": "stdout",
       "text": [
        "def sherlock(filenames, datalen=40):\r\n",
        "    datamax = np.empty((len(filenames), datalen))\r\n",
        "    count = 0\r\n",
        "    for f in filenames:\r\n",
        "        datamax[count] = analyze_stats(f)[1]\r\n",
        "        count += 1\r\n",
        "    plot_clues(datamax)\r\n",
        "\r\n",
        "    \r\n",
        "def plot_clues(datamax):\r\n",
        "    overallmax = datamax.max(0)\r\n",
        "    plt.plot(overallmax)\r\n",
        "    size = datamax.shape\r\n",
        "\r\n",
        "    for count in range(size[0]):\r\n",
        "        for time in range(size[1]):\r\n",
        "            if datamax[count, time] - overallmax[time] == -1:\r\n",
        "                plt.plot(time, datamax[count, time], 's')\r\n",
        "            elif datamax[count, time] < overallmax[time]:\r\n",
        "                plt.plot(time, datamax[count, time], 'x')\r\n",
        "            else:\r\n",
        "                plt.plot(time, datamax[count, time], '.')\r\n",
        "    plt.title(\r\n",
        "        \"Overall Maximum and Deviations Away from It\\n\"\r\n",
        "        \"dots = same as overall mean\\n\"\r\n",
        "        \"squares = exactly 1 unit less\")\r\n",
        "    plt.xlabel(\"Time (days)\")\r\n",
        "    plt.ylabel(\"Inflammation (units)\")def analyze_stats(filename):\r\n",
        "    data = np.loadtxt(fname=filename, delimiter=',')\r\n",
        "    return data.mean(0), data.max(0), data.min(0)"
       ]
      }
     ],
     "prompt_number": 4
    },
    {
     "cell_type": "markdown",
     "metadata": {},
     "source": [
      "Now that we have our code in a text file we'll shift to our favourite text editor to make changes."
     ]
    },
    {
     "cell_type": "markdown",
     "metadata": {},
     "source": [
      "The first thing we need to do is import the modules that `sherlock()` and `plot_clues()` use.\n",
      "\n",
      "In your editor,\n",
      "add the following lines to the top of the file,\n",
      "and save it.\n",
      "\n",
      "```python\n",
      "import matplotlib.pyplot as plt\n",
      "import numpy as np\n",
      "```\n",
      "\n",
      "By convention,\n",
      "imports are written in alphabetical order."
     ]
    },
    {
     "cell_type": "markdown",
     "metadata": {},
     "source": [
      "We also need to fix how the definition of `analyze_stats()` was appended to the file\n",
      "by adding a couple of empty lines and making sure that the indentation is correct.\n",
      "\n",
      "After doing those things `sherlock.py` should look like:"
     ]
    },
    {
     "cell_type": "code",
     "collapsed": false,
     "input": [
      "!cat sherlock.py"
     ],
     "language": "python",
     "metadata": {},
     "outputs": [
      {
       "output_type": "stream",
       "stream": "stdout",
       "text": [
        "import numpy as np\r\n",
        "import matplotlib.pyplot as plt\r\n",
        "\r\n",
        "\r\n",
        "def sherlock(filenames, datalen=40):\r\n",
        "    datamax = np.empty((len(filenames), datalen))\r\n",
        "    count = 0\r\n",
        "    for f in filenames:\r\n",
        "        datamax[count] = analyze_stats(f)[1]\r\n",
        "        count += 1\r\n",
        "    plot_clues(datamax)\r\n",
        "\r\n",
        "\r\n",
        "def plot_clues(datamax):\r\n",
        "    overallmax = datamax.max(0)\r\n",
        "    plt.plot(overallmax)\r\n",
        "    size = datamax.shape\r\n",
        "\r\n",
        "    for count in range(size[0]):\r\n",
        "        for time in range(size[1]):\r\n",
        "            if datamax[count, time] - overallmax[time] == -1:\r\n",
        "                plt.plot(time, datamax[count, time], 's')\r\n",
        "            elif datamax[count, time] < overallmax[time]:\r\n",
        "                plt.plot(time, datamax[count, time], 'x')\r\n",
        "            else:\r\n",
        "                plt.plot(time, datamax[count, time], '.')\r\n",
        "    plt.title(\r\n",
        "        \"Overall Maximum and Deviations Away from It\\n\"\r\n",
        "        \"dots = same as overall mean\\n\"\r\n",
        "        \"squares = exactly 1 unit less\")\r\n",
        "    plt.xlabel(\"Time (days)\")\r\n",
        "    plt.ylabel(\"Inflammation (units)\")\r\n",
        "\r\n",
        "\r\n",
        "def analyze_stats(filename):\r\n",
        "    data = np.loadtxt(fname=filename, delimiter=',')\r\n",
        "    return data.mean(0), data.max(0), data.min(0)\r\n"
       ]
      }
     ],
     "prompt_number": 5
    },
    {
     "cell_type": "markdown",
     "metadata": {},
     "source": [
      "Now,\n",
      "we can import our `sherlock()` function and use it just in this notebook\n",
      "just like we used it in the previous notebook where we developed it:"
     ]
    },
    {
     "cell_type": "code",
     "collapsed": false,
     "input": [
      "%matplotlib inline\n",
      "\n",
      "import glob\n",
      "\n",
      "import sherlock\n",
      "\n",
      "sherlock.sherlock(glob.glob('inflammation-*.csv'))"
     ],
     "language": "python",
     "metadata": {},
     "outputs": [
      {
       "metadata": {},
       "output_type": "display_data",
       "png": "[encoded data removed]",
       "text": [
        "<matplotlib.figure.Figure at 0x7f303ddc57d0>"
       ]
      }
     ],
     "prompt_number": 12
    },
    {
     "cell_type": "heading",
     "level": 3,
     "metadata": {},
     "source": [
      "Docstrings"
     ]
    },
    {
     "cell_type": "markdown",
     "metadata": {},
     "source": [
      "Let's add some docstrings to our module and its functions to tell our future selves\n",
      "and others what the code does.\n",
      "Recall the the convention for docstrings is to enclose them in sets of triple double quotes: `\"\"\"`.\n",
      "The module docstring goes at the top of the module\n",
      "(before the imports),\n",
      "and the function docstrings go at the tops of the functions\n",
      "(just after the `def` statements).\n",
      "\n",
      "Once we have some docstring in our module we can reload it into the notebook and use\n",
      "the help features to check them out."
     ]
    },
    {
     "cell_type": "code",
     "collapsed": false,
     "input": [
      "reload(sherlock)"
     ],
     "language": "python",
     "metadata": {},
     "outputs": [
      {
       "metadata": {},
       "output_type": "pyout",
       "prompt_number": 10,
       "text": [
        "<module 'sherlock' from 'sherlock.pyc'>"
       ]
      }
     ],
     "prompt_number": 10
    },
    {
     "cell_type": "markdown",
     "metadata": {},
     "source": [
      "> #### Reload?\n",
      ">\n",
      "> The import statement only works once during a Python session.\n",
      "> After that,\n",
      "> Python will not reread your code,\n",
      "> no matter how many times you import it.\n",
      "> This means that if you import your code from a file,\n",
      "> then change and save the file,\n",
      "> those changes won't be reflected in Python,\n",
      "> even if you `import` your module again.\n",
      "> To explicitly force Python to reread your module after a change,\n",
      "> use the `reload()` function."
     ]
    },
    {
     "cell_type": "code",
     "collapsed": false,
     "input": [
      "sherlock?"
     ],
     "language": "python",
     "metadata": {},
     "outputs": [],
     "prompt_number": 17
    },
    {
     "cell_type": "markdown",
     "metadata": {},
     "source": [
      "```\n",
      "Type:        module\n",
      "String form: <module 'sherlock' from 'sherlock.pyc'>\n",
      "File:        /home/dlatornell/swc/2014-09-25-ubc/novice/python/sherlock.py\n",
      "Docstring:\n",
      "Investigate the suspicious similarities in the inflammation data files.\n",
      "\n",
      "Plot a graph that shows how little the per-dataset maximum inflammation\n",
      "deviates from the overal maximum value.\n",
      "```"
     ]
    },
    {
     "cell_type": "code",
     "collapsed": false,
     "input": [
      "sherlock.sherlock?"
     ],
     "language": "python",
     "metadata": {},
     "outputs": [],
     "prompt_number": 18
    },
    {
     "cell_type": "markdown",
     "metadata": {},
     "source": [
      "```\n",
      "Type:        function\n",
      "String form: <function sherlock at 0x7f303dde68c0>\n",
      "File:        /home/dlatornell/swc/2014-09-25-ubc/novice/python/sherlock.py\n",
      "Definition:  sherlock.sherlock(filenames, datalen=40)\n",
      "Docstring:\n",
      "Detect the suspicious lack of differences in the maximum\n",
      "inflamation values.\n",
      "```"
     ]
    },
    {
     "cell_type": "heading",
     "level": 3,
     "metadata": {},
     "source": [
      "Command-Line Arguments"
     ]
    },
    {
     "cell_type": "markdown",
     "metadata": {},
     "source": [
      "Use your editor to create a new file called `argv-list.py` that contains the lines:\n",
      "```python\n",
      "import sys\n",
      "print 'sys.argv is', sys.argv\n",
      "```\n",
      "That strange name `argv` stands for \"argument values\".\n",
      "Whenever Python runs a program,\n",
      "it takes all of the values given on the command line\n",
      "and puts them in the list `sys.argv`\n",
      "so that the program can determine what they were."
     ]
    },
    {
     "cell_type": "markdown",
     "metadata": {},
     "source": [
      "If we use Python to run this program at the command-line:\n",
      "```\n",
      "$ python argv-list.py\n",
      "```\n",
      "The output should look something like:\n",
      "```\n",
      "sys.argv is ['argv-list.py']\n",
      "```"
     ]
    },
    {
     "cell_type": "markdown",
     "metadata": {},
     "source": [
      "and if we run it from a different directory,\n",
      "we get:\n",
      "```\n",
      "$ cd ..\n",
      "$ python hbridge/argv-list.py\n",
      "sys.argv is ['hbridge/argv-list.py']\n",
      "```"
     ]
    },
    {
     "cell_type": "markdown",
     "metadata": {},
     "source": [
      "The only thing in the list is the path to our script,\n",
      "which is always `sys.argv[0]`.\n",
      "If we run it with a few arguments,\n",
      "however:\n",
      "```\n",
      "$ python hbridge/argv-list.py one two three\n",
      "sys.argv is ['hbridge/argv-list.py', 'one', 'two', 'three']\n",
      "```"
     ]
    },
    {
     "cell_type": "markdown",
     "metadata": {},
     "source": [
      "then Python adds each of those arguments to the list."
     ]
    },
    {
     "cell_type": "markdown",
     "metadata": {},
     "source": [
      "With that knowledge we can add a feature to our `sherlock.py` module to\n",
      "enable us to run `sherlock` from the command-line and pass in the list\n",
      "of files that we want it to operate on via shell wildcard characters."
     ]
    },
    {
     "cell_type": "markdown",
     "metadata": {},
     "source": [
      "In your text editor,\n",
      "add\n",
      "```python\n",
      "import sys\n",
      "```\n",
      "to the collection of import statements at the top of the `sherlock.py` file,\n",
      "and add a new function definition:\n",
      "```python\n",
      "def main():\n",
      "    \"\"\"Command-line interface.\n",
      "    \"\"\"\n",
      "    script = sys.argv[0]\n",
      "    files = sys.argv[1:]\n",
      "    for fn in files:\n",
      "        print fn\n",
      "```"
     ]
    },
    {
     "cell_type": "markdown",
     "metadata": {},
     "source": [
      "The `main()` function is the function that we're going to call when the module\n",
      "is executed by Python from the command-line.\n",
      "It's a Python convention to call it `main()`,\n",
      "but you could call it anything else if you wanted to.\n",
      "At this point `main()` is just a \"stub\" for testing -\n",
      "it doesn't call `sherlock()` yet,\n",
      "but we'll get there..."
     ]
    },
    {
     "cell_type": "markdown",
     "metadata": {},
     "source": [
      "We need to call the `main()` when we do:\n",
      "```bash\n",
      "$ python sherlock.py\n",
      "```\n",
      "but we also want to still be able to use:\n",
      "```python\n",
      "import sherlock\n",
      "```\n",
      "in our code as we did a few minutes ago.\n",
      "There is a detail that we need to take care of for things to work both ways."
     ]
    },
    {
     "cell_type": "markdown",
     "metadata": {},
     "source": [
      "When Python imports a module it executes the code in the module.\n",
      "If we just put a call to `main()` in `sherlock.py` it will be executed whenever\n",
      "we do `import sherlock`,\n",
      "perhaps with unpleasant (or unexpected) results.\n",
      "That's what's known as an \"import side-effect\" and it's bad form in Python programming.\n",
      "Fortunately,\n",
      "Python provides a way to solve this problem.\n",
      "There is a special variable,\n",
      "`__name__`,\n",
      "which is set when Python reads a module.\n",
      "If Python is reading the module because it has been run from the command-line,\n",
      "`__name__` is set to `\"__main__\"`,\n",
      "but if the module is being read because it is being imported,\n",
      "`__name__` is set to the name of the module."
     ]
    },
    {
     "cell_type": "markdown",
     "metadata": {},
     "source": [
      "We can use that to ensure that our `main()` function is only executed\n",
      "when the module is run at the command-line by adding these 2 lines of code\n",
      "to the end of `sherlock.py`:\n",
      "```python\n",
      "if __name__ == '__main__':\n",
      "    main()\n",
      "```"
     ]
    },
    {
     "cell_type": "markdown",
     "metadata": {},
     "source": [
      "With those changes in place,\n",
      "here's what `sherlock.py` looks like now:"
     ]
    },
    {
     "cell_type": "code",
     "collapsed": false,
     "input": [
      "!cat sherlock.py"
     ],
     "language": "python",
     "metadata": {},
     "outputs": [
      {
       "output_type": "stream",
       "stream": "stdout",
       "text": [
        "\"\"\"Investigate the suspicious similarities in the inflammation data files.\r\n",
        "\r\n",
        "Plot a graph that shows how little the per-dataset maximum inflammation\r\n",
        "deviates from the overal maximum value.\r\n",
        "\"\"\"\r\n",
        "import sys\r\n",
        "\r\n",
        "import numpy as np\r\n",
        "import matplotlib.pyplot as plt\r\n",
        "\r\n",
        "\r\n",
        "def main():\r\n",
        "    \"\"\"Command-line interface.\r\n",
        "    \"\"\"\r\n",
        "    script = sys.argv[0]\r\n",
        "    files = sys.argv[1:]\r\n",
        "    for fn in files:\r\n",
        "        print fn\r\n",
        "\r\n",
        "\r\n",
        "def sherlock(filenames, datalen=40):\r\n",
        "    \"\"\"Detect the suspicious lack of differences in the maximum\r\n",
        "    inflamation values.\r\n",
        "    \"\"\"\r\n",
        "    datamax = np.empty((len(filenames), datalen))\r\n",
        "    count = 0\r\n",
        "    for f in filenames:\r\n",
        "        datamax[count] = analyze_stats(f)[1]\r\n",
        "        count += 1\r\n",
        "    plot_clues(datamax)\r\n",
        "\r\n",
        "\r\n",
        "def plot_clues(datamax):\r\n",
        "    overallmax = datamax.max(0)\r\n",
        "    plt.plot(overallmax)\r\n",
        "    size = datamax.shape\r\n",
        "\r\n",
        "    for count in range(size[0]):\r\n",
        "        for time in range(size[1]):\r\n",
        "            if datamax[count, time] - overallmax[time] == -1:\r\n",
        "                plt.plot(time, datamax[count, time], 's')\r\n",
        "            elif datamax[count, time] < overallmax[time]:\r\n",
        "                plt.plot(time, datamax[count, time], 'x')\r\n",
        "            else:\r\n",
        "                plt.plot(time, datamax[count, time], '.')\r\n",
        "    plt.title(\r\n",
        "        \"Overall Maximum and Deviations Away from It\\n\"\r\n",
        "        \"dots = same as overall mean\\n\"\r\n",
        "        \"squares = exactly 1 unit less\")\r\n",
        "    plt.xlabel(\"Time (days)\")\r\n",
        "    plt.ylabel(\"Inflammation (units)\")\r\n",
        "    plt.show()\r\n",
        "\r\n",
        "\r\n",
        "def analyze_stats(filename):\r\n",
        "    data = np.loadtxt(fname=filename, delimiter=',')\r\n",
        "    return data.mean(0), data.max(0), data.min(0)\r\n",
        "\r\n",
        "\r\n",
        "if __name__ == '__main__':\r\n",
        "    main()\r\n"
       ]
      }
     ],
     "prompt_number": 25
    },
    {
     "cell_type": "markdown",
     "metadata": {},
     "source": [
      "Let's test it!\n",
      "```bash\n",
      "$ python sherlock.py inflammation-01.csv \n",
      "inflammation-01.csv\n",
      "```"
     ]
    },
    {
     "cell_type": "markdown",
     "metadata": {},
     "source": [
      "```bash\n",
      "$ python sherlock.py inflammation-*.csv \n",
      "inflammation-01.csv\n",
      "inflammation-02.csv\n",
      "inflammation-03.csv\n",
      "inflammation-04.csv\n",
      "inflammation-05.csv\n",
      "inflammation-06.csv\n",
      "inflammation-07.csv\n",
      "inflammation-08.csv\n",
      "inflammation-09.csv\n",
      "inflammation-10.csv\n",
      "inflammation-11.csv\n",
      "inflammation-12.csv\n",
      "```"
     ]
    },
    {
     "cell_type": "markdown",
     "metadata": {},
     "source": [
      "```bash\n",
      "$ python sherlock.py inflammation-0[6-9].csv \n",
      "inflammation-06.csv\n",
      "inflammation-07.csv\n",
      "inflammation-08.csv\n",
      "inflammation-09.csv\n",
      "```"
     ]
    },
    {
     "cell_type": "markdown",
     "metadata": {},
     "source": [
      "As expected,\n",
      "`sherlock.py` is printing out the list of files that we are asking for\n",
      "with the shell wildcard characters.\n",
      "So, it's just a small change now to call the `sherlock()` function on that list:\n",
      "```python\n",
      "def main():\n",
      "    \"\"\"Command-line interface.\n",
      "    \"\"\"\n",
      "    script = sys.argv[0]\n",
      "    files = sys.argv[1:]\n",
      "    sherlock(files)\n",
      "```"
     ]
    },
    {
     "cell_type": "markdown",
     "metadata": {},
     "source": [
      "Now,\n",
      "when we run\n",
      "```bash\n",
      "$ python sherlock.py inflammation-*.csv\n",
      "```\n",
      "a Matplotlib graph window pops open:\n",
      "\n",
      "![matplotlib graph window](img/matplotlib-graph-window.png)\n",
      "\n",
      "It has tool buttons to let you pan and zoom in the image,\n",
      "and also to save the image to a file."
     ]
    },
    {
     "cell_type": "markdown",
     "metadata": {},
     "source": [
      "In summary:\n",
      "\n",
      "* We started with some functions that we developed in a\n",
      "[`notebook`](http://nbviewer.ipython.org/github/douglatornell/2014-09-25-ubc/blob/gh-pages/novice/python/04-simple_cond.ipynb)\n",
      "but that we decided we wanted to use elsewhere.\n",
      "* We captured those functions in a Python module (`sherlock.py`) with the help of the IPython Notebook ``%%writefile`` cell magic.\n",
      "* We modified the module in a text editor to add imports and docstrings.\n",
      "* We demonstrated that we could import from our `sherlock.py` module,\n",
      "and use the help features of IPython to read our docstrings.\n",
      "* We modified `sherlock.py` so that it could be used as a command-line script as well as an import.\n",
      "* We used the `sherlock()` function to produce graphs both in-line in an IPython Notebook,\n",
      "and in a separate graph window.\n",
      "\n",
      "This is an example of code re-use and the DRY\n",
      "(Don't Repeat Yourself) principle.\n",
      "We developed `sherlock()` and its associated functions in one context and made them useful\n",
      "in other ways without having to copy/paste them and maintain multiple versions."
     ]
    },
    {
     "cell_type": "heading",
     "level": 3,
     "metadata": {},
     "source": [
      "Connecting to the Pipeline"
     ]
    },
    {
     "cell_type": "markdown",
     "metadata": {},
     "source": [
      "Although it doesn't make much sense in the context of `sherlock`,\n",
      "you can probably imagine wanting to write a Python script that you could\n",
      "use as part of a shell pipeline:\n",
      "```bash\n",
      "$ python myscript.py < inflammation-*.csv | head -20\n",
      "```"
     ]
    },
    {
     "cell_type": "markdown",
     "metadata": {},
     "source": [
      "Python provides a special \"file\" called `sys.stdin`,\n",
      "which is automatically connected to the program's standard input.\n",
      "We don't have to open it \u2014\n",
      "Python and the operating system take care of that when the program starts up \u2014\n",
      "but we can do almost anything with it that we could do to a regular file."
     ]
    },
    {
     "cell_type": "markdown",
     "metadata": {},
     "source": [
      "We can use that in a `main()` function like this:\n",
      "```python\n",
      "def main():\n",
      "    script = sys.argv[0]\n",
      "    filenames = sys.argv[1:]\n",
      "    if not filenames:\n",
      "        process(sys.stdin)\n",
      "    else:\n",
      "        process(filenames)\n",
      "```"
     ]
    },
    {
     "cell_type": "heading",
     "level": 3,
     "metadata": {},
     "source": [
      "Argparse"
     ]
    },
    {
     "cell_type": "markdown",
     "metadata": {},
     "source": [
      "Creating command-line scripts with multiple arguments,\n",
      "option flags,\n",
      "built-in help,\n",
      "etc. is a common enough task that people have written Python libraries to\n",
      "take care of most of the tedious details.\n",
      "The Python standard library has a module named [argparse](http://docs.python.org/dev/library/argparse.html)\n",
      "that does that.\n",
      "When you want to get serious about creating Python command-line scripts\n",
      "you should go to Tshepang Lekhonkhobe's\n",
      "[Argparse tutorial](http://docs.python.org/dev/howto/argparse.html)\n",
      "that is part of Python's Official Documentation."
     ]
    },
    {
     "cell_type": "markdown",
     "metadata": {},
     "source": [
      "### Key Points\n",
      "\n",
      "*   A Python module is a text file containing Python code.\n",
      "*   `%%writefile` lets you output code developed in a Notebook to a Python module.\n",
      "*   The `sys` library connects a Python program to the system it is running on.\n",
      "*   The list `sys.argv` contains the command-line arguments that a program was run with.\n",
      "*   `if __name__ == \"__main__\":` provides a shield that prevents code in a module\n",
      "from being executed when the module is imported,\n",
      "but allows it to be run from the command-line.\n",
      "*   The \"file\" `sys.stdin` connects to a program's standard input."
     ]
    }
   ],
   "metadata": {}
  }
 ]
}